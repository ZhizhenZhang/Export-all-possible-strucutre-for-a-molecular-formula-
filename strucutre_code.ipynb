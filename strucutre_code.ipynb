{
 "cells": [
  {
   "cell_type": "code",
   "execution_count": 2,
   "metadata": {},
   "outputs": [],
   "source": [
    "from __future__ import print_function\n",
    "import pubchempy as pcp\n",
    "from pubchempy import Compound, get_compounds, get_sids, Substance\n",
    "import openpyxl\n",
    "from openpyxl import workbook\n",
    "import xlsxwriter\n",
    "# from chemspipy import ChemSpider\n",
    "# from rdkit import Chem\n",
    "import os"
   ]
  },
  {
   "cell_type": "code",
   "execution_count": 3,
   "metadata": {},
   "outputs": [],
   "source": [
    "def zzcs (import_excel_path=\"/Users/zhizhenzhang/Desktop/summer_research/house dust.xlsx\", export_excel_path='/Users/zhizhenzhang/Desktop/summer_research/demo_cs.xlsx'):\n",
    "    cs = ChemSpider('8HqHYzZ7l6LFjFvUExLUNsoa78jepAKj')\n",
    "    book = openpyxl.load_workbook(import_excel_path)\n",
    "    # \"/Users/zhizhenzhang/Desktop/summer_research/house dust.xlsx\"\n",
    "\n",
    "    sheet = book.active\n",
    "\n",
    "    matrix = []\n",
    "    demo_names = []\n",
    "\n",
    "    for cur_index in range(1, 2, 1):\n",
    "        cur_cell_index = 'A' + str(cur_index)\n",
    "        cur_cell = sheet[cur_cell_index]\n",
    "        cur_cell_value = cur_cell.value\n",
    "        demo_names.append(cur_cell_value)\n",
    "        #print (cur_cell_value)\n",
    "\n",
    "\n",
    "        search_results = cs.search(cur_cell_value)\n",
    "        result_lst = []\n",
    "        for result in search_results:\n",
    "            result_lst.append(result.smiles)\n",
    "            #print(result_lst)\n",
    "        #print(len(result_lst))\n",
    "\n",
    "        matrix.append(result_lst)\n",
    "    print(matrix)\n",
    "\n",
    "    demo_values = matrix\n",
    "    wb = xlsxwriter.Workbook(export_excel_path)\n",
    "    # '/Users/zhizhenzhang/Desktop/summer_research/demo_cs.xlsx'\n",
    "    ws = wb.add_worksheet()\n",
    "\n",
    "    for col_index in range(0, len(demo_values), 1):\n",
    "        ws.write(0, col_index, demo_names[col_index])\n",
    "        for row_index in range(0, len(demo_values[col_index]), 1):\n",
    "            ws.write(row_index + 1, col_index, demo_values[col_index][row_index])\n",
    "    wb.close()"
   ]
  },
  {
   "cell_type": "code",
   "execution_count": 1,
   "metadata": {},
   "outputs": [],
   "source": [
    "def zzpb (input_file,output,start,end):\n",
    "    book = openpyxl.load_workbook(input_file)\n",
    "    sheet = book.active\n",
    "    matrix = []\n",
    "    demo_names = []\n",
    "    wb = xlsxwriter.Workbook(output)\n",
    "    ws = wb.add_worksheet()\n",
    "    for cur_index in range(start, end+1, 1):\n",
    "        cur_cell_index = 'A' + str(cur_index)\n",
    "        cur_cell = sheet[cur_cell_index]\n",
    "        cur_cell_value = cur_cell.value\n",
    "        demo_names.append(cur_cell_value)\n",
    "        #print (cur_cell_value)\n",
    "\n",
    "        cids = pcp.get_cids(cur_cell_value, 'formula')\n",
    "        print(len(cids))\n",
    "        counter = 0\n",
    "        ws.write(counter, cur_index - 1, cur_cell_value)\n",
    "        for cid in cids:\n",
    "            compound = pcp.Compound.from_cid(cid)\n",
    "            #print(\"===========================================\")\n",
    "#             print(cid)\n",
    "#             print(compound)\n",
    "#             print(compound.isomeric_smiles)\n",
    "            counter += 1\n",
    "            ws.write(counter, cur_index - 1, compound.isomeric_smiles)\n",
    "\n",
    "    wb.close()"
   ]
  },
  {
   "cell_type": "code",
   "execution_count": 3,
   "metadata": {},
   "outputs": [],
   "source": [
    "def zzmg():\n",
    "    os.chdir('C:\\Program Files\\Molgen')\n",
    "    os.system('mgen C13H10O2 -l2d -stop 100 -o D:\\C13H10O2.sdf')\n",
    "    sdf = Chem.SDMolSupplier( 'C13H10O2_100.sdf' )\n",
    "    with open('C13H10O2_100.smi', 'w') as f:\n",
    "        for mol in sdf:\n",
    "            smi = Chem.MolToSmiles(mol)\n",
    "            f.write(\"{}\\n\".format(smi))"
   ]
  },
  {
   "cell_type": "code",
   "execution_count": 3,
   "metadata": {},
   "outputs": [],
   "source": [
    "    "
   ]
  }
 ],
 "metadata": {
  "kernelspec": {
   "display_name": "Python 3",
   "language": "python",
   "name": "python3"
  },
  "language_info": {
   "codemirror_mode": {
    "name": "ipython",
    "version": 3
   },
   "file_extension": ".py",
   "mimetype": "text/x-python",
   "name": "python",
   "nbconvert_exporter": "python",
   "pygments_lexer": "ipython3",
   "version": "3.7.3"
  }
 },
 "nbformat": 4,
 "nbformat_minor": 2
}
